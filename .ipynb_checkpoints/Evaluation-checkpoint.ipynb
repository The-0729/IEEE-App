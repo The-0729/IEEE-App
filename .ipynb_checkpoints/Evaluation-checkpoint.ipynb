{
 "cells": [
  {
   "cell_type": "code",
   "execution_count": 1,
   "id": "5ded3f23-d92a-4afb-a399-0fe5cc6a18ad",
   "metadata": {},
   "outputs": [
    {
     "name": "stdout",
     "output_type": "stream",
     "text": [
      "Row 1 similarity: 0.4347\n",
      "Row 2 similarity: 0.5299\n",
      "Row 3 similarity: 0.4988\n",
      "Row 4 similarity: 0.5261\n",
      "Row 5 similarity: 0.8161\n",
      "Row 6 similarity: 0.2116\n",
      "Row 7 similarity: 0.4197\n",
      "Row 8 similarity: 0.9900\n",
      "Row 9 similarity: 0.0534\n",
      "Row 10 similarity: 0.2477\n",
      "Row 11 similarity: 0.0462\n",
      "Row 12 similarity: 0.0842\n",
      "Row 13 similarity: 0.3986\n",
      "Row 14 similarity: 0.1693\n",
      "Row 15 similarity: 0.8724\n",
      "Row 16 similarity: 0.7156\n",
      "Row 17 similarity: 1.0000\n",
      "Row 18 similarity: 0.1868\n"
     ]
    }
   ],
   "source": [
    "import pandas as pd\n",
    "from sentence_transformers import SentenceTransformer\n",
    "from sklearn.metrics.pairwise import cosine_similarity\n",
    "\n",
    "# Load Excel file\n",
    "df = pd.read_excel(\"qa_results.xlsx\")\n",
    "\n",
    "# Use a good embedding model (you can switch to \"all-MiniLM-L6-v2\" for speed)\n",
    "embedder = SentenceTransformer(\"all-MiniLM-L6-v2\")\n",
    "\n",
    "# Store similarities\n",
    "similarities = []\n",
    "\n",
    "for idx, row in df.iterrows():\n",
    "    cypher_answer = str(row[\"Expected Answer\"])  # raw cypher output\n",
    "    nl_answer = str(row[\"NL Answer\"])          # natural language explanation\n",
    "\n",
    "    # Get embeddings\n",
    "    emb1 = embedder.encode([cypher_answer])\n",
    "    emb2 = embedder.encode([nl_answer])\n",
    "\n",
    "    # Compute cosine similarity\n",
    "    score = cosine_similarity(emb1, emb2)[0][0]\n",
    "    similarities.append(score)\n",
    "\n",
    "    print(f\"Row {idx+1} similarity: {score:.4f}\")\n"
   ]
  },
  {
   "cell_type": "code",
   "execution_count": 2,
   "id": "d73141cc-fb78-48c4-860c-565930f86f9c",
   "metadata": {
    "scrolled": true
   },
   "outputs": [
    {
     "data": {
      "text/plain": [
       "[0.43468204,\n",
       " 0.5298662,\n",
       " 0.49880257,\n",
       " 0.52607846,\n",
       " 0.81605476,\n",
       " 0.21155259,\n",
       " 0.41970357,\n",
       " 0.9900487,\n",
       " 0.05342365,\n",
       " 0.24773724,\n",
       " 0.046155687,\n",
       " 0.084182635,\n",
       " 0.39859122,\n",
       " 0.16932416,\n",
       " 0.87243664,\n",
       " 0.71562207,\n",
       " 1.0000001,\n",
       " 0.18682064]"
      ]
     },
     "execution_count": 2,
     "metadata": {},
     "output_type": "execute_result"
    }
   ],
   "source": [
    "# Add as new column\n",
    "similarities\n",
    "# df[\"CosineSimilarity\"] = similarities"
   ]
  },
  {
   "cell_type": "code",
   "execution_count": 3,
   "id": "5ed80c0e-37c5-4bbb-b9af-3d54ea430776",
   "metadata": {},
   "outputs": [
    {
     "name": "stdout",
     "output_type": "stream",
     "text": [
      "Row 1 similarity: 0.3840\n",
      "Row 2 similarity: 0.5665\n",
      "Row 3 similarity: 0.6443\n",
      "Row 4 similarity: 0.4370\n",
      "Row 5 similarity: 0.1827\n",
      "Row 6 similarity: 0.4588\n",
      "Row 7 similarity: 0.3111\n",
      "Row 8 similarity: 0.3431\n",
      "Row 9 similarity: 0.0476\n",
      "Row 10 similarity: 0.1341\n",
      "Row 11 similarity: 0.4349\n",
      "Row 12 similarity: 0.2715\n",
      "Row 13 similarity: 0.3709\n",
      "Row 14 similarity: 0.2306\n",
      "Row 15 similarity: 0.4684\n",
      "Row 16 similarity: 0.0819\n",
      "Row 17 similarity: 0.6025\n",
      "Row 18 similarity: 0.3793\n"
     ]
    }
   ],
   "source": [
    "import pandas as pd\n",
    "from sentence_transformers import SentenceTransformer\n",
    "from sklearn.metrics.pairwise import cosine_similarity\n",
    "\n",
    "# Load Excel file\n",
    "df = pd.read_excel(\"qa2_results.xlsx\")\n",
    "\n",
    "# Use a good embedding model (you can switch to \"all-MiniLM-L6-v2\" for speed)\n",
    "embedder = SentenceTransformer(\"all-MiniLM-L6-v2\")\n",
    "\n",
    "# Store similarities\n",
    "similarities = []\n",
    "\n",
    "for idx, row in df.iterrows():\n",
    "    cypher_answer = str(row[\"Expected Answer\"])  # raw cypher output\n",
    "    nl_answer = str(row[\"NL Answer\"])          # natural language explanation\n",
    "\n",
    "    # Get embeddings\n",
    "    emb1 = embedder.encode([cypher_answer])\n",
    "    emb2 = embedder.encode([nl_answer])\n",
    "\n",
    "    # Compute cosine similarity\n",
    "    score = cosine_similarity(emb1, emb2)[0][0]\n",
    "    similarities.append(score)\n",
    "\n",
    "    print(f\"Row {idx+1} similarity: {score:.4f}\")\n"
   ]
  },
  {
   "cell_type": "code",
   "execution_count": 4,
   "id": "2ced952e-c1d4-4a82-a03b-a7c7eaf8cc9c",
   "metadata": {},
   "outputs": [
    {
     "data": {
      "text/plain": [
       "[0.3839803,\n",
       " 0.5665004,\n",
       " 0.64434683,\n",
       " 0.43695194,\n",
       " 0.18267882,\n",
       " 0.4588112,\n",
       " 0.31109333,\n",
       " 0.34314764,\n",
       " 0.0476453,\n",
       " 0.13411677,\n",
       " 0.4349478,\n",
       " 0.2715317,\n",
       " 0.37086895,\n",
       " 0.23060627,\n",
       " 0.46842256,\n",
       " 0.08187838,\n",
       " 0.6024524,\n",
       " 0.37932396]"
      ]
     },
     "execution_count": 4,
     "metadata": {},
     "output_type": "execute_result"
    }
   ],
   "source": [
    "# Add as new column\n",
    "similarities\n",
    "# df[\"CosineSimilarity\"] = similarities"
   ]
  }
 ],
 "metadata": {
  "kernelspec": {
   "display_name": "Python 3 (ipykernel)",
   "language": "python",
   "name": "python3"
  },
  "language_info": {
   "codemirror_mode": {
    "name": "ipython",
    "version": 3
   },
   "file_extension": ".py",
   "mimetype": "text/x-python",
   "name": "python",
   "nbconvert_exporter": "python",
   "pygments_lexer": "ipython3",
   "version": "3.12.7"
  }
 },
 "nbformat": 4,
 "nbformat_minor": 5
}
