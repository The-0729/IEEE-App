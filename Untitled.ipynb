{
 "cells": [
  {
   "cell_type": "code",
   "execution_count": 6,
   "id": "59bd9fa9-4af0-466d-90fd-3d72fdd50b8c",
   "metadata": {},
   "outputs": [],
   "source": [
    "import streamlit as st\n",
    "from langchain_community.graphs import Neo4jGraph\n",
    "from langchain.chains import GraphCypherQAChain\n",
    "from langchain_community.llms import Ollama\n",
    "\n",
    "# Connect to Neo4j\n",
    "graph = Neo4jGraph(\n",
    "    url=\"neo4j://127.0.0.1:7687\",\n",
    "    username=\"neo4j\",\n",
    "    password=\"datvip01\"\n",
    ")\n",
    "\n",
    "llm = Ollama(model=\"gemma3:12b\", temperature=0)\n",
    "chain = GraphCypherQAChain.from_llm(llm=llm, graph=graph, verbose=True,\n",
    "    allow_dangerous_requests=True )\n",
    "\n",
    "# Streamlit UI\n",
    "st.title(\"Academic Advisor Assistant (GraphRAG)\")\n",
    "\n",
    "query = st.text_input(\"Ask a question about subjects:\")\n",
    "\n",
    "if st.button(\"Ask\"):\n",
    "    if query.strip():\n",
    "        answer = chain.invoke({\"query\": query})\n",
    "        st.write(\"### Answer\")\n",
    "        st.write(answer[\"result\"])\n"
   ]
  },
  {
   "cell_type": "code",
   "execution_count": 7,
   "id": "0c5f38f0-52ef-4045-a789-f0a4f6e31b4f",
   "metadata": {},
   "outputs": [
    {
     "data": {
      "text/plain": [
       "<langchain_community.graphs.neo4j_graph.Neo4jGraph at 0x1a5be40c440>"
      ]
     },
     "execution_count": 7,
     "metadata": {},
     "output_type": "execute_result"
    }
   ],
   "source": [
    "graph"
   ]
  }
 ],
 "metadata": {
  "kernelspec": {
   "display_name": "Python 3 (ipykernel)",
   "language": "python",
   "name": "python3"
  },
  "language_info": {
   "codemirror_mode": {
    "name": "ipython",
    "version": 3
   },
   "file_extension": ".py",
   "mimetype": "text/x-python",
   "name": "python",
   "nbconvert_exporter": "python",
   "pygments_lexer": "ipython3",
   "version": "3.12.7"
  }
 },
 "nbformat": 4,
 "nbformat_minor": 5
}
